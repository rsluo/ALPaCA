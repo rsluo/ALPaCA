{
 "cells": [
  {
   "cell_type": "code",
   "execution_count": 1,
   "metadata": {},
   "outputs": [],
   "source": [
    "%load_ext autoreload\n",
    "%autoreload 2\n",
    "import numpy as np\n",
    "from main.alpaca import *\n",
    "from main.dataset import *\n",
    "from main.dataViz import *\n",
    "from hand_plotting import *\n",
    "import yaml"
   ]
  },
  {
   "cell_type": "code",
   "execution_count": 2,
   "metadata": {},
   "outputs": [],
   "source": [
    "cfg_filename = 'configs/trajectory-config.yml'\n",
    "with open(cfg_filename,'r') as ymlfile:\n",
    "    config = yaml.load(ymlfile)"
   ]
  },
  {
   "cell_type": "code",
   "execution_count": 3,
   "metadata": {},
   "outputs": [
    {
     "data": {
      "text/plain": [
       "{'data_horizon': 20,\n",
       " 'test_horizon': 10,\n",
       " 'row_length': 30,\n",
       " 'meta_batch_size': 128,\n",
       " 'x_dim': 567,\n",
       " 'y_dim': 63,\n",
       " 'sigma_eps': 0.005,\n",
       " 'lr': 0.0001,\n",
       " 'nn_layers': [256],\n",
       " 'activation': 'tanh',\n",
       " 'basis': 'lstm',\n",
       " 'num_input_points': 10,\n",
       " 'num_hand_points': 21,\n",
       " 'input_dim': 3,\n",
       " 'shuffle': False,\n",
       " 'action': 'train-set',\n",
       " 'formulation': 'space'}"
      ]
     },
     "execution_count": 3,
     "metadata": {},
     "output_type": "execute_result"
    }
   ],
   "source": [
    "config"
   ]
  },
  {
   "cell_type": "code",
   "execution_count": null,
   "metadata": {},
   "outputs": [],
   "source": [
    "root_dir_train = '/cvgl2/u/rsluo/datasets/First_Person_Action_Benchmark/Hand_pose_annotation_v1/train/'\n",
    "root_dir_val = '/cvgl2/u/rsluo/datasets/First_Person_Action_Benchmark/Hand_pose_annotation_v1/val/'\n",
    "root_dir_test = '/cvgl2/u/rsluo/datasets/First_Person_Action_Benchmark/Hand_pose_annotation_v1/test/'\n",
    "action_label = config['action']\n",
    "basis = config['basis']\n",
    "num_input_points = config['num_input_points']\n",
    "num_hand_points = config['num_hand_points']\n",
    "input_dim = config['input_dim']\n",
    "row_length = config['row_length']\n",
    "shuffle = config['shuffle']\n",
    "train_dataset = HandTrajectoryDataset(root_dir_train, action_label, basis, num_input_points, num_hand_points, input_dim, row_length, shuffle)\n",
    "val_dataset = HandTrajectoryDataset(root_dir_val, action_label, basis, num_input_points, num_hand_points, input_dim, row_length, shuffle)\n",
    "test_dataset = HandTrajectoryDataset(root_dir_test, action_label, basis, num_input_points, num_hand_points, input_dim, row_length, shuffle)"
   ]
  },
  {
   "cell_type": "code",
   "execution_count": null,
   "metadata": {
    "scrolled": false
   },
   "outputs": [
    {
     "name": "stdout",
     "output_type": "stream",
     "text": [
      "loss: 354.32382\n",
      "val_loss:  277.80164\n",
      "Saved to: checkpoints/space_1547239302.2466815_action=train-set_basis=lstm_nn-layers=256_activation=tanh_lr=0.0001_sigma-eps=0.005_batch-size=128_num-input-points=10_data-horizon=20_test-horizon=10_row-length=30-0\n",
      "loss: 232.86499\n",
      "val_loss:  186.55707\n",
      "loss: 209.45352\n",
      "val_loss:  199.43964\n",
      "loss: 229.81169\n",
      "val_loss:  202.38747\n",
      "loss: 224.89609\n",
      "val_loss:  215.69061\n",
      "loss: 195.14223\n",
      "val_loss:  228.59822\n",
      "loss: 194.61917\n",
      "val_loss:  229.132\n",
      "loss: 202.21608\n",
      "val_loss:  210.34619\n",
      "loss: 194.5438\n",
      "val_loss:  173.25426\n",
      "loss: 183.71375\n",
      "val_loss:  196.68745\n",
      "loss: 187.50589\n",
      "val_loss:  207.73044\n",
      "loss: 186.47379\n",
      "val_loss:  162.82043\n"
     ]
    }
   ],
   "source": [
    "g1 = tf.Graph()\n",
    "sess1 = tf.InteractiveSession(config=tf.ConfigProto(device_count = {'GPU': 0}, allow_soft_placement=True, log_device_placement=True), graph=g1)\n",
    "agent1 = ALPaCA(config, sess1, g1)\n",
    "agent1.construct_model()\n",
    "agent1.train(train_dataset, val_dataset, 2000)"
   ]
  },
  {
   "cell_type": "code",
   "execution_count": null,
   "metadata": {},
   "outputs": [],
   "source": []
  },
  {
   "cell_type": "code",
   "execution_count": null,
   "metadata": {},
   "outputs": [],
   "source": []
  },
  {
   "cell_type": "code",
   "execution_count": null,
   "metadata": {},
   "outputs": [],
   "source": []
  },
  {
   "cell_type": "code",
   "execution_count": null,
   "metadata": {
    "scrolled": true
   },
   "outputs": [],
   "source": [
    "num_input_points = config['num_input_points']\n",
    "num_hand_points = config['num_hand_points']\n",
    "input_dim = config['input_dim']\n",
    "shuffle = config['shuffle']\n",
    "row_length = config['row_length']\n",
    "action_label = config['action']\n",
    "train_dataset = TrajectoriesDataset('/cvgl2/u/rsluo/datasets/First_Person_Action_Benchmark/Hand_pose_annotation_v1/train/', action_label, num_input_points, num_hand_points, input_dim, row_length, shuffle)\n",
    "val_dataset = TrajectoriesDataset('/cvgl2/u/rsluo/datasets/First_Person_Action_Benchmark/Hand_pose_annotation_v1/valid/', action_label, num_input_points, num_hand_points, input_dim, row_length, shuffle)\n",
    "test_dataset = TrajectoriesDataset('/cvgl2/u/rsluo/datasets/First_Person_Action_Benchmark/Hand_pose_annotation_v1/test/', action_label, num_input_points, num_hand_points, input_dim, row_length, shuffle)\n",
    "\n",
    "len_train_dataset = train_dataset.__len__()\n",
    "num_samples_train = len_train_dataset\n",
    "Y1, X1, init1 = train_dataset.sample_trajectories(num_samples_train)\n",
    "Y2, X2, init2 = train_dataset.sample_trajectories(num_samples_train)\n",
    "print('Y1 size', Y1.shape)\n",
    "print('X1 size', X1.shape)\n",
    "print('init1 size', init1.shape)\n",
    "print('Y2 size', Y2.shape)\n",
    "print('X2 size', X2.shape)\n",
    "print('init2 size', init2.shape)\n",
    "print()\n",
    "\n",
    "len_val_dataset = val_dataset.__len__()\n",
    "num_samples_val = len_val_dataset\n",
    "Y_val1, X_val1, init_val1 = val_dataset.sample_trajectories(num_samples_val)\n",
    "Y_val2, X_val2, init_val2 = val_dataset.sample_trajectories(num_samples_val)\n",
    "print('Y_val1 size', Y_val1.shape)\n",
    "print('X_val1 size', X_val1.shape)\n",
    "print('init_val1 size', init_val1.shape)\n",
    "print('Y_val2 size', Y_val2.shape)\n",
    "print('X_val2 size', X_val2.shape)\n",
    "print('init_val2 size', init_val2.shape)\n",
    "print()\n",
    "\n",
    "len_test_dataset = test_dataset.__len__()\n",
    "num_samples_test = len_test_dataset\n",
    "Y_test1, X_test1, init_test1 = test_dataset.sample_trajectories(num_samples_test)\n",
    "Y_test2, X_test2, init_test2 = test_dataset.sample_trajectories(num_samples_test)\n",
    "print('Y_test1 size', Y_test1.shape)\n",
    "print('X_test1 size', X_test1.shape)\n",
    "print('init_test1 size', init_test1.shape)\n",
    "print('Y_test2 size', Y_test2.shape)\n",
    "print('X_test2 size', X_test2.shape)\n",
    "print('init_test2 size', init_test2.shape)\n",
    "\n",
    "noise1 = 0.1\n",
    "noise2 = 0.3\n",
    "noise3 = 0.5"
   ]
  },
  {
   "cell_type": "code",
   "execution_count": null,
   "metadata": {
    "scrolled": false
   },
   "outputs": [],
   "source": [
    "g1 = tf.Graph()\n",
    "sess1 = tf.InteractiveSession(config=tf.ConfigProto(device_count = {'GPU': 0}, allow_soft_placement=True, log_device_placement=True), graph=g1)\n",
    "agent1 = ALPaCA(config, sess1, g1)\n",
    "agent1.construct_model()\n",
    "agent1.train(train_dataset, 500)"
   ]
  },
  {
   "cell_type": "code",
   "execution_count": null,
   "metadata": {},
   "outputs": [],
   "source": [
    "rmse = agent1.test_rmse(sess1, X1, Y1)\n",
    "print('Train RMSE:', rmse)\n",
    "\n",
    "rmse = agent1.test_rmse(sess1, X_test1, Y_test1)\n",
    "print('Test RMSE:', rmse)"
   ]
  },
  {
   "cell_type": "code",
   "execution_count": null,
   "metadata": {},
   "outputs": [],
   "source": []
  },
  {
   "cell_type": "code",
   "execution_count": null,
   "metadata": {
    "scrolled": false
   },
   "outputs": [],
   "source": [
    "# Testing plotting code\n",
    "print(Y_test1.shape)\n",
    "print(X_test1.shape)\n",
    "print(init_test1.shape)\n",
    "\n",
    "plot_hand_points(init_test1[0, 0, :])\n",
    "plot_hand_points(init_test1[0, 1, :])\n",
    "hand1 = np.squeeze(X_test1[0, 0, 0:63]) + init_test1[0, 0, :]\n",
    "hand2 = hand1 + np.squeeze(X_test1[0, 0, 63:126])\n",
    "plot_two_hands(hand1, hand2, first_hand_label='Ground Truth', second_hand_label='Ground Truth t+1')"
   ]
  },
  {
   "cell_type": "code",
   "execution_count": null,
   "metadata": {
    "scrolled": false
   },
   "outputs": [],
   "source": [
    "x_test = X_test1[0,:,:];\n",
    "y_test = Y_test1[0,:,:];\n",
    "print('x_test shape', x_test.shape)\n",
    "print('y_test shape', y_test.shape)\n",
    "\n",
    "next_positions = init_test1[0,:,:]\n",
    "print('next_positions shape', next_positions.shape)\n",
    "\n",
    "# Predicting 1 next step at a time\n",
    "for i in range(1, 10):\n",
    "    ux = x_test[:i, :]\n",
    "    ux = np.expand_dims(ux, axis=0)\n",
    "    uy = y_test[:i, :]\n",
    "    uy = np.expand_dims(uy, axis=0)\n",
    "    x = x_test[i, :]\n",
    "    x = np.expand_dims(np.expand_dims(x, axis=0), axis=0)\n",
    "    y, s = agent1.test(sess1, ux, uy, x) # y is the predicted next position\n",
    "    \n",
    "    next_pos = next_positions[i,:]\n",
    "    for j in range(num_input_points - 1):\n",
    "        next_pos = next_pos + np.squeeze(x[:,:,63*j:63*(j+1)])\n",
    "        \n",
    "    pred_hand = next_pos + np.squeeze(y)\n",
    "    true_hand = next_pos + y_test[i, :]\n",
    "    plot_two_hands(pred_hand, true_hand, pred_uncertainty=s)"
   ]
  },
  {
   "cell_type": "code",
   "execution_count": null,
   "metadata": {
    "scrolled": false
   },
   "outputs": [],
   "source": [
    "ux = X_test1[0,0,:]\n",
    "uy = Y_test1[0,0,:]\n",
    "ux = np.expand_dims(np.expand_dims(ux, axis=0), axis=0)\n",
    "uy = np.expand_dims(np.expand_dims(uy, axis=0), axis=0)\n",
    "x = X_test1[0,1,:]\n",
    "x = np.expand_dims(np.expand_dims(x, axis=0), axis=0)\n",
    "print('ux shape', ux.shape)\n",
    "print('uy shape', uy.shape)\n",
    "print('x shape', x.shape)\n",
    "\n",
    "print('X_test1 shape', X_test1.shape)\n",
    "print('Y_test1 shape', Y_test1.shape)\n",
    "\n",
    "next_positions = init_test1[0,:,:]\n",
    "print('next_positions shape', next_positions.shape)\n",
    "\n",
    "# Predicting farther into the future\n",
    "for i in range(1, 10):\n",
    "    y, s = agent1.test(sess1, ux, uy, x) # y is the predicted next position\n",
    "    \n",
    "    next_pos_pred = next_positions[i,:]\n",
    "    for j in range(num_input_points - 1):\n",
    "        next_pos_pred = next_pos_pred + np.squeeze(x[:,:,63*j:63*(j+1)])\n",
    "    pred_hand = next_pos_pred + np.squeeze(y)\n",
    "    \n",
    "    next_pos_true = next_positions[i,:]\n",
    "    for k in range(num_input_points - 1):\n",
    "        next_pos_true = next_pos_true + np.squeeze(X_test1[0,i,63*k:63*(k+1)])\n",
    "    true_hand = next_pos_true + Y_test1[0, i, :]\n",
    "    \n",
    "    plot_two_hands(pred_hand, true_hand, pred_uncertainty=s)\n",
    "    \n",
    "    ux = np.concatenate((ux, x), axis=1)\n",
    "    uy = np.concatenate((uy, y), axis=1)\n",
    "    x = np.concatenate((x[:,:,63:], y), axis=2)"
   ]
  },
  {
   "cell_type": "code",
   "execution_count": null,
   "metadata": {},
   "outputs": [],
   "source": []
  },
  {
   "cell_type": "code",
   "execution_count": null,
   "metadata": {
    "scrolled": false
   },
   "outputs": [],
   "source": [
    "points_per_traj = 30\n",
    "yy, xx = train_dataset.sample_trajectories_time(num_samples_train, points_per_traj)\n",
    "# xx = np.expand_dims(xx, axis=2)\n",
    "yy_val, xx_val = val_dataset.sample_trajectories_time(num_samples_val, points_per_traj)\n",
    "# xx_val = np.expand_dims(xx_val, axis=2)\n",
    "yy_test, xx_test = test_dataset.sample_trajectories_time(num_samples_test, points_per_traj)\n",
    "# xx_test = np.expand_dims(xx_test, axis=2)\n",
    "\n",
    "print(len(xx))\n",
    "print(len(yy))\n",
    "print(len(xx_val))\n",
    "print(len(yy_val))\n",
    "print(len(xx_test))\n",
    "print(len(yy_test))\n",
    "\n",
    "print(xx[0].shape)\n",
    "print(yy[0].shape)\n",
    "\n",
    "# print('xx shape', xx.shape)\n",
    "# print('yy shape', yy.shape)\n",
    "# print('xx_val shape', xx_val.shape)\n",
    "# print('yy_val shape', yy_val.shape)\n",
    "# print('xx_test shape', xx_test.shape)\n",
    "# print('yy_test shape', yy_test.shape)"
   ]
  },
  {
   "cell_type": "code",
   "execution_count": null,
   "metadata": {
    "scrolled": false
   },
   "outputs": [],
   "source": [
    "g2 = tf.Graph()\n",
    "sess2 = tf.InteractiveSession(config=tf.ConfigProto(log_device_placement=True), graph=g2)\n",
    "agent2 = ALPaCA(config)\n",
    "agent2.sigma_scalar = noise2\n",
    "agent2.construct_model(sess2, g2)\n",
    "agent2.train(sess2, yy, xx, yy_val, xx_val, 200, plot_loss=True)"
   ]
  },
  {
   "cell_type": "code",
   "execution_count": null,
   "metadata": {},
   "outputs": [],
   "source": [
    "rmse = agent2.test_rmse(sess2, xx, yy)\n",
    "print('Train RMSE:', rmse)\n",
    "\n",
    "rmse = agent2.test_rmse(sess2, xx_test, yy_test)\n",
    "print('Test RMSE:', rmse)"
   ]
  },
  {
   "cell_type": "code",
   "execution_count": null,
   "metadata": {},
   "outputs": [],
   "source": []
  },
  {
   "cell_type": "code",
   "execution_count": null,
   "metadata": {},
   "outputs": [],
   "source": []
  },
  {
   "cell_type": "code",
   "execution_count": null,
   "metadata": {},
   "outputs": [],
   "source": []
  },
  {
   "cell_type": "code",
   "execution_count": null,
   "metadata": {},
   "outputs": [],
   "source": []
  },
  {
   "cell_type": "code",
   "execution_count": null,
   "metadata": {},
   "outputs": [],
   "source": []
  },
  {
   "cell_type": "code",
   "execution_count": null,
   "metadata": {},
   "outputs": [],
   "source": []
  }
 ],
 "metadata": {
  "kernelspec": {
   "display_name": "Python 3",
   "language": "python",
   "name": "python3"
  },
  "language_info": {
   "codemirror_mode": {
    "name": "ipython",
    "version": 3
   },
   "file_extension": ".py",
   "mimetype": "text/x-python",
   "name": "python",
   "nbconvert_exporter": "python",
   "pygments_lexer": "ipython3",
   "version": "3.6.7"
  }
 },
 "nbformat": 4,
 "nbformat_minor": 2
}
